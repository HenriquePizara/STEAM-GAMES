{
 "cells": [
  {
   "cell_type": "code",
   "execution_count": 1,
   "metadata": {},
   "outputs": [],
   "source": [
    "import sys\n",
    "import os\n",
    "# Adiciona o caminho da pasta raiz ao sys.path\n",
    "sys.path.append(os.path.abspath('..'))\n",
    "\n",
    "\n"
   ]
  },
  {
   "cell_type": "code",
   "execution_count": 2,
   "metadata": {},
   "outputs": [],
   "source": [
    "from src.banco import Banco\n",
    "from src import etl"
   ]
  },
  {
   "cell_type": "code",
   "execution_count": 4,
   "metadata": {},
   "outputs": [],
   "source": [
    "banco = Banco()\n",
    "base = banco.viewer()\n",
    "base.to_excel('../data/outputs/baseteste.xlsx')"
   ]
  },
  {
   "cell_type": "code",
   "execution_count": null,
   "metadata": {},
   "outputs": [],
   "source": []
  },
  {
   "cell_type": "code",
   "execution_count": 3,
   "metadata": {},
   "outputs": [],
   "source": [
    "#cria a tabela principal no banco\n",
    "banco = Banco()\n",
    "banco.create_table()"
   ]
  },
  {
   "cell_type": "code",
   "execution_count": 3,
   "metadata": {},
   "outputs": [
    {
     "name": "stdout",
     "output_type": "stream",
     "text": [
      "Index(['steam_appid', 'Jogo', 'Desenvolvedor', 'publishers', 'Categoria',\n",
      "       'Genero', 'Idade_min', 'n_achievements', 'Plataforma', 'is_released',\n",
      "       'data_lancamento', 'additional_content', 'total_reviews',\n",
      "       'Total_Positivo', 'Total_Negativo', 'review_score', 'review_score_desc',\n",
      "       'positive_percentual', 'metacritic', 'Free_to_play',\n",
      "       'price_initial_usd'],\n",
      "      dtype='object')\n",
      "<class 'pandas.core.frame.DataFrame'>\n",
      "RangeIndex: 71429 entries, 0 to 71428\n",
      "Data columns (total 21 columns):\n",
      " #   Column               Non-Null Count  Dtype  \n",
      "---  ------               --------------  -----  \n",
      " 0   steam_appid          71429 non-null  int64  \n",
      " 1   Jogo                 71429 non-null  string \n",
      " 2   Desenvolvedor        71429 non-null  string \n",
      " 3   publishers           71429 non-null  string \n",
      " 4   Categoria            71429 non-null  string \n",
      " 5   Genero               71429 non-null  string \n",
      " 6   Idade_min            71429 non-null  int64  \n",
      " 7   n_achievements       71429 non-null  int64  \n",
      " 8   Plataforma           71429 non-null  string \n",
      " 9   is_released          71429 non-null  string \n",
      " 10  data_lancamento      71429 non-null  object \n",
      " 11  additional_content   71429 non-null  object \n",
      " 12  total_reviews        71429 non-null  int64  \n",
      " 13  Total_Positivo       71429 non-null  int64  \n",
      " 14  Total_Negativo       71429 non-null  int64  \n",
      " 15  review_score         71429 non-null  float64\n",
      " 16  review_score_desc    71429 non-null  object \n",
      " 17  positive_percentual  71429 non-null  float64\n",
      " 18  metacritic           71429 non-null  int64  \n",
      " 19  Free_to_play         71429 non-null  bool   \n",
      " 20  price_initial_usd    71429 non-null  float64\n",
      "dtypes: bool(1), float64(3), int64(7), object(3), string(7)\n",
      "memory usage: 11.0+ MB\n",
      "finalizado\n"
     ]
    }
   ],
   "source": [
    "path = '../data/'\n",
    "nm_arquivo = 'steam_games.csv'\n",
    "#extrai os dados do csv e trata os dados e joga no banco\n",
    "df = etl.ETL(path,nm_arquivo)\n",
    "df\n"
   ]
  }
 ],
 "metadata": {
  "kernelspec": {
   "display_name": ".venv",
   "language": "python",
   "name": "python3"
  },
  "language_info": {
   "codemirror_mode": {
    "name": "ipython",
    "version": 3
   },
   "file_extension": ".py",
   "mimetype": "text/x-python",
   "name": "python",
   "nbconvert_exporter": "python",
   "pygments_lexer": "ipython3",
   "version": "3.11.9"
  }
 },
 "nbformat": 4,
 "nbformat_minor": 2
}
